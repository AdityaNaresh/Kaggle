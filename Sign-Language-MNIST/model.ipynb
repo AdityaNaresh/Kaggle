{
 "cells": [
  {
   "cell_type": "code",
   "execution_count": 1,
   "metadata": {
    "pycharm": {
     "name": "#%%\n"
    }
   },
   "outputs": [
    {
     "name": "stderr",
     "output_type": "stream",
     "text": [
      "WARNING:root:Limited tf.compat.v2.summary API due to missing TensorBoard installation.\n",
      "WARNING:root:Limited tf.compat.v2.summary API due to missing TensorBoard installation.\n",
      "WARNING:root:Limited tf.compat.v2.summary API due to missing TensorBoard installation.\n",
      "WARNING:root:Limited tf.summary API due to missing TensorBoard installation.\n"
     ]
    },
    {
     "name": "stdout",
     "output_type": "stream",
     "text": [
      "Setup Complete!\n"
     ]
    }
   ],
   "source": [
    "import csv\n",
    "import numpy as np\n",
    "import tensorflow as tf\n",
    "import matplotlib.pyplot as plt\n",
    "import pandas as pd\n",
    "from tensorflow.keras.preprocessing.image import ImageDataGenerator\n",
    "from tensorflow.keras.utils import to_categorical\n",
    "from keras.callbacks import ReduceLROnPlateau\n",
    "\n",
    "print(\"Setup Complete!\")"
   ]
  },
  {
   "cell_type": "code",
   "execution_count": 2,
   "metadata": {
    "pycharm": {
     "name": "#%%\n"
    }
   },
   "outputs": [],
   "source": [
    "def get_data(filename):\n",
    "    with open(filename) as training_file:\n",
    "        file = csv.reader(training_file, delimiter = \",\")\n",
    "        images = []\n",
    "        labels = []\n",
    "        ignore = 1\n",
    "        for row in file:\n",
    "            if ignore == 1:\n",
    "                ignore = 0\n",
    "                continue\n",
    "            labels.append(row[0])\n",
    "            images.append(np.array_split(row[1:],28))\n",
    "    return np.array(images).astype(\"int32\"), np.array(labels).astype(\"int32\")\n"
   ]
  },
  {
   "cell_type": "code",
   "execution_count": 3,
   "metadata": {
    "pycharm": {
     "name": "#%%\n"
    }
   },
   "outputs": [
    {
     "name": "stdout",
     "output_type": "stream",
     "text": [
      "(27455, 28, 28)\n",
      "(7172, 28, 28)\n",
      "(27455,)\n",
      "(7172,)\n"
     ]
    }
   ],
   "source": [
    "train_path = 'Data/sign_mnist_train.csv'\n",
    "test_path = 'Data/sign_mnist_test.csv'\n",
    "\n",
    "x_train, y_train = get_data(train_path)\n",
    "x_test, y_test = get_data(test_path)\n",
    "\n",
    "print(x_train.shape)\n",
    "print(x_test.shape)\n",
    "print(y_train.shape)\n",
    "print(y_test.shape)"
   ]
  },
  {
   "cell_type": "code",
   "execution_count": 4,
   "metadata": {},
   "outputs": [],
   "source": [
    "x_train = np.expand_dims(x_train, axis=3)\n",
    "x_test = np.expand_dims(x_test, axis=3)"
   ]
  },
  {
   "cell_type": "code",
   "execution_count": 5,
   "metadata": {
    "pycharm": {
     "name": "#%%\n"
    }
   },
   "outputs": [
    {
     "name": "stdout",
     "output_type": "stream",
     "text": [
      "(27455, 28, 28, 1)\n",
      "(7172, 28, 28, 1)\n"
     ]
    }
   ],
   "source": [
    "train_data_gen = ImageDataGenerator(rescale = 1./255,\n",
    "      rotation_range=30,\n",
    "      width_shift_range=0.1,\n",
    "      height_shift_range=0.1,\n",
    "      shear_range=0.2,\n",
    "      zoom_range=0.2,\n",
    "      horizontal_flip=True,\n",
    "      fill_mode='nearest'\n",
    "    )\n",
    "\n",
    "validation_data_gen = ImageDataGenerator(rescale = 1./255)\n",
    "\n",
    "print(x_train.shape)\n",
    "print(x_test.shape)"
   ]
  },
  {
   "cell_type": "code",
   "execution_count": 6,
   "metadata": {
    "pycharm": {
     "name": "#%%\n"
    }
   },
   "outputs": [
    {
     "name": "stdout",
     "output_type": "stream",
     "text": [
      "Model: \"sequential\"\n",
      "_________________________________________________________________\n",
      "Layer (type)                 Output Shape              Param #   \n",
      "=================================================================\n",
      "conv2d (Conv2D)              (None, 26, 26, 64)        640       \n",
      "_________________________________________________________________\n",
      "batch_normalization (BatchNo (None, 26, 26, 64)        256       \n",
      "_________________________________________________________________\n",
      "conv2d_1 (Conv2D)            (None, 26, 26, 64)        36928     \n",
      "_________________________________________________________________\n",
      "max_pooling2d (MaxPooling2D) (None, 13, 13, 64)        0         \n",
      "_________________________________________________________________\n",
      "conv2d_2 (Conv2D)            (None, 13, 13, 128)       73856     \n",
      "_________________________________________________________________\n",
      "max_pooling2d_1 (MaxPooling2 (None, 6, 6, 128)         0         \n",
      "_________________________________________________________________\n",
      "flatten (Flatten)            (None, 4608)              0         \n",
      "_________________________________________________________________\n",
      "dense (Dense)                (None, 256)               1179904   \n",
      "_________________________________________________________________\n",
      "dense_1 (Dense)              (None, 25)                6425      \n",
      "=================================================================\n",
      "Total params: 1,298,009\n",
      "Trainable params: 1,297,881\n",
      "Non-trainable params: 128\n",
      "_________________________________________________________________\n"
     ]
    }
   ],
   "source": [
    "model = tf.keras.models.Sequential([\n",
    "    tf.keras.layers.Conv2D(64, (3,3), activation=tf.nn.relu,input_shape=(28, 28, 1)),\n",
    "    tf.keras.layers.BatchNormalization(),\n",
    "    \n",
    "    tf.keras.layers.Conv2D(64, (3,3), activation=tf.nn.relu,padding = 'Same'),\n",
    "    tf.keras.layers.MaxPooling2D(2,2),\n",
    "\n",
    "    tf.keras.layers.Conv2D(128, (3,3), activation=tf.nn.relu,padding = 'Same'),\n",
    "    tf.keras.layers.MaxPooling2D(2,2),\n",
    "\n",
    "    tf.keras.layers.Flatten(),\n",
    "\n",
    "    tf.keras.layers.Dense(256,activation=tf.nn.relu),\n",
    "    tf.keras.layers.Dense(25, activation = tf.nn.softmax)\n",
    "])\n",
    "\n",
    "model.summary()"
   ]
  },
  {
   "cell_type": "code",
   "execution_count": 7,
   "metadata": {
    "pycharm": {
     "name": "#%%\n"
    }
   },
   "outputs": [],
   "source": [
    "y_train_cat = to_categorical(y_train)\n",
    "y_test_cat = to_categorical(y_test)\n",
    "\n",
    "training_generator = train_data_gen.flow(x_train, y_train_cat, batch_size=64)\n",
    "validation_generator = validation_data_gen.flow(x_test, y_test_cat, batch_size=64)\n",
    "\n",
    "model.compile(loss = 'categorical_crossentropy', optimizer= tf.keras.optimizers.Adam(), metrics=['acc'])\n",
    "\n",
    "learning_rate_reduction = ReduceLROnPlateau(monitor='val_acc',\n",
    "                                            patience=2,\n",
    "                                            verbose=1,\n",
    "                                            factor=0.5,\n",
    "                                            min_lr=0.000003)"
   ]
  },
  {
   "cell_type": "code",
   "execution_count": 8,
   "metadata": {
    "pycharm": {
     "name": "#%%\n"
    }
   },
   "outputs": [
    {
     "name": "stdout",
     "output_type": "stream",
     "text": [
      "Epoch 1/40\n",
      "429/429 [==============================] - 8s 18ms/step - loss: 1.1762 - acc: 0.6268 - val_loss: 0.8676 - val_acc: 0.8560\n",
      "Epoch 2/40\n",
      "429/429 [==============================] - 7s 17ms/step - loss: 0.3496 - acc: 0.8836 - val_loss: 0.1231 - val_acc: 0.9640\n",
      "Epoch 3/40\n",
      "429/429 [==============================] - 7s 17ms/step - loss: 0.2082 - acc: 0.9306 - val_loss: 0.1480 - val_acc: 0.9494\n",
      "Epoch 4/40\n",
      "429/429 [==============================] - ETA: 0s - loss: 0.1438 - acc: 0.9517\n",
      "Epoch 00004: ReduceLROnPlateau reducing learning rate to 0.0005000000237487257.\n",
      "429/429 [==============================] - 7s 17ms/step - loss: 0.1438 - acc: 0.9517 - val_loss: 0.1196 - val_acc: 0.9537\n",
      "Epoch 5/40\n",
      "429/429 [==============================] - 7s 17ms/step - loss: 0.0758 - acc: 0.9755 - val_loss: 0.1148 - val_acc: 0.9608\n",
      "Epoch 6/40\n",
      "429/429 [==============================] - 7s 17ms/step - loss: 0.0598 - acc: 0.9808 - val_loss: 0.0367 - val_acc: 0.9828\n",
      "Epoch 7/40\n",
      "429/429 [==============================] - 7s 17ms/step - loss: 0.0512 - acc: 0.9836 - val_loss: 0.0633 - val_acc: 0.9757\n",
      "Epoch 8/40\n",
      "429/429 [==============================] - 7s 17ms/step - loss: 0.0497 - acc: 0.9846 - val_loss: 0.0333 - val_acc: 0.9922\n",
      "Epoch 9/40\n",
      "429/429 [==============================] - 7s 17ms/step - loss: 0.0479 - acc: 0.9839 - val_loss: 0.0427 - val_acc: 0.9845\n",
      "Epoch 10/40\n",
      "429/429 [==============================] - 7s 17ms/step - loss: 0.0420 - acc: 0.9871 - val_loss: 0.0217 - val_acc: 0.9930\n",
      "Epoch 11/40\n",
      "429/429 [==============================] - 7s 17ms/step - loss: 0.0437 - acc: 0.9847 - val_loss: 0.0119 - val_acc: 0.9958\n",
      "Epoch 12/40\n",
      "429/429 [==============================] - 7s 17ms/step - loss: 0.0393 - acc: 0.9880 - val_loss: 0.0218 - val_acc: 0.9897\n",
      "Epoch 13/40\n",
      "429/429 [==============================] - ETA: 0s - loss: 0.0392 - acc: 0.9877\n",
      "Epoch 00013: ReduceLROnPlateau reducing learning rate to 0.0002500000118743628.\n",
      "429/429 [==============================] - 7s 17ms/step - loss: 0.0392 - acc: 0.9877 - val_loss: 0.0443 - val_acc: 0.9855\n",
      "Epoch 14/40\n",
      "429/429 [==============================] - 8s 18ms/step - loss: 0.0209 - acc: 0.9932 - val_loss: 0.0153 - val_acc: 0.9921\n",
      "Epoch 15/40\n",
      "429/429 [==============================] - ETA: 0s - loss: 0.0170 - acc: 0.9947\n",
      "Epoch 00015: ReduceLROnPlateau reducing learning rate to 0.0001250000059371814.\n",
      "429/429 [==============================] - 7s 17ms/step - loss: 0.0170 - acc: 0.9947 - val_loss: 0.0140 - val_acc: 0.9955\n",
      "Epoch 16/40\n",
      "429/429 [==============================] - 8s 18ms/step - loss: 0.0125 - acc: 0.9960 - val_loss: 0.0041 - val_acc: 0.9985\n",
      "Epoch 17/40\n",
      "429/429 [==============================] - 7s 17ms/step - loss: 0.0103 - acc: 0.9967 - val_loss: 0.0032 - val_acc: 0.9987\n",
      "Epoch 18/40\n",
      "429/429 [==============================] - 7s 17ms/step - loss: 0.0097 - acc: 0.9967 - val_loss: 0.0117 - val_acc: 0.9974\n",
      "Epoch 19/40\n",
      "429/429 [==============================] - ETA: 0s - loss: 0.0099 - acc: 0.9968\n",
      "Epoch 00019: ReduceLROnPlateau reducing learning rate to 6.25000029685907e-05.\n",
      "429/429 [==============================] - 7s 17ms/step - loss: 0.0099 - acc: 0.9968 - val_loss: 0.0079 - val_acc: 0.9957\n",
      "Epoch 20/40\n",
      "429/429 [==============================] - 8s 18ms/step - loss: 0.0069 - acc: 0.9980 - val_loss: 0.0063 - val_acc: 0.9968\n",
      "Epoch 21/40\n",
      "429/429 [==============================] - 7s 17ms/step - loss: 0.0075 - acc: 0.9980 - val_loss: 0.0028 - val_acc: 0.9994\n",
      "Epoch 22/40\n",
      "429/429 [==============================] - 7s 17ms/step - loss: 0.0070 - acc: 0.9977 - val_loss: 0.0015 - val_acc: 0.9999\n",
      "Epoch 23/40\n",
      "429/429 [==============================] - 7s 17ms/step - loss: 0.0059 - acc: 0.9979 - val_loss: 0.0012 - val_acc: 0.9997\n",
      "Epoch 24/40\n",
      "427/429 [============================>.] - ETA: 0s - loss: 0.0065 - acc: 0.9980\n",
      "Epoch 00024: ReduceLROnPlateau reducing learning rate to 3.125000148429535e-05.\n",
      "429/429 [==============================] - 8s 18ms/step - loss: 0.0065 - acc: 0.9980 - val_loss: 0.0063 - val_acc: 0.9965\n",
      "Epoch 25/40\n",
      "429/429 [==============================] - 8s 18ms/step - loss: 0.0067 - acc: 0.9980 - val_loss: 9.9405e-04 - val_acc: 0.9997\n",
      "Epoch 26/40\n",
      "429/429 [==============================] - 7s 17ms/step - loss: 0.0052 - acc: 0.9983 - val_loss: 5.3769e-04 - val_acc: 1.0000\n",
      "Epoch 27/40\n",
      "429/429 [==============================] - 8s 19ms/step - loss: 0.0053 - acc: 0.9983 - val_loss: 0.0013 - val_acc: 0.9996\n",
      "Epoch 28/40\n",
      "428/429 [============================>.] - ETA: 0s - loss: 0.0054 - acc: 0.9986\n",
      "Epoch 00028: ReduceLROnPlateau reducing learning rate to 1.5625000742147677e-05.\n",
      "429/429 [==============================] - 7s 17ms/step - loss: 0.0054 - acc: 0.9986 - val_loss: 0.0013 - val_acc: 0.9994\n",
      "Epoch 29/40\n",
      "429/429 [==============================] - 7s 17ms/step - loss: 0.0039 - acc: 0.9991 - val_loss: 8.6908e-04 - val_acc: 0.9999\n",
      "Epoch 30/40\n",
      "427/429 [============================>.] - ETA: 0s - loss: 0.0036 - acc: 0.9990\n",
      "Epoch 00030: ReduceLROnPlateau reducing learning rate to 7.812500371073838e-06.\n",
      "429/429 [==============================] - 7s 17ms/step - loss: 0.0037 - acc: 0.9990 - val_loss: 0.0012 - val_acc: 0.9997\n",
      "Epoch 31/40\n",
      "429/429 [==============================] - 7s 17ms/step - loss: 0.0048 - acc: 0.9985 - val_loss: 0.0011 - val_acc: 0.9999\n",
      "Epoch 32/40\n",
      "428/429 [============================>.] - ETA: 0s - loss: 0.0038 - acc: 0.9988\n",
      "Epoch 00032: ReduceLROnPlateau reducing learning rate to 3.906250185536919e-06.\n",
      "429/429 [==============================] - 7s 17ms/step - loss: 0.0038 - acc: 0.9988 - val_loss: 0.0011 - val_acc: 0.9997\n",
      "Epoch 33/40\n",
      "429/429 [==============================] - 8s 18ms/step - loss: 0.0045 - acc: 0.9984 - val_loss: 0.0011 - val_acc: 0.9997\n",
      "Epoch 34/40\n",
      "428/429 [============================>.] - ETA: 0s - loss: 0.0033 - acc: 0.9989\n",
      "Epoch 00034: ReduceLROnPlateau reducing learning rate to 3e-06.\n",
      "429/429 [==============================] - 7s 17ms/step - loss: 0.0033 - acc: 0.9989 - val_loss: 0.0011 - val_acc: 0.9997\n",
      "Epoch 35/40\n",
      "429/429 [==============================] - 7s 17ms/step - loss: 0.0048 - acc: 0.9986 - val_loss: 0.0012 - val_acc: 0.9997\n",
      "Epoch 36/40\n",
      "427/429 [============================>.] - ETA: 0s - loss: 0.0041 - acc: 0.9986\n",
      "Epoch 00036: ReduceLROnPlateau reducing learning rate to 3e-06.\n",
      "429/429 [==============================] - 7s 17ms/step - loss: 0.0041 - acc: 0.9986 - val_loss: 0.0011 - val_acc: 0.9997\n",
      "Epoch 37/40\n",
      "429/429 [==============================] - 7s 17ms/step - loss: 0.0036 - acc: 0.9989 - val_loss: 9.4010e-04 - val_acc: 0.9999\n",
      "Epoch 38/40\n",
      "428/429 [============================>.] - ETA: 0s - loss: 0.0036 - acc: 0.9989\n",
      "Epoch 00038: ReduceLROnPlateau reducing learning rate to 3e-06.\n",
      "429/429 [==============================] - 8s 20ms/step - loss: 0.0036 - acc: 0.9989 - val_loss: 9.9257e-04 - val_acc: 0.9999\n",
      "Epoch 39/40\n",
      "429/429 [==============================] - 8s 19ms/step - loss: 0.0035 - acc: 0.9989 - val_loss: 0.0012 - val_acc: 0.9997\n",
      "Epoch 40/40\n",
      "427/429 [============================>.] - ETA: 0s - loss: 0.0041 - acc: 0.9988\n",
      "Epoch 00040: ReduceLROnPlateau reducing learning rate to 3e-06.\n",
      "429/429 [==============================] - 8s 19ms/step - loss: 0.0040 - acc: 0.9988 - val_loss: 0.0012 - val_acc: 0.9997\n"
     ]
    }
   ],
   "source": [
    "history = model.fit(training_generator,\n",
    "                    epochs = 40,\n",
    "                    verbose = 1,\n",
    "                   validation_data = validation_generator,\n",
    "                   callbacks=[learning_rate_reduction])"
   ]
  },
  {
   "cell_type": "code",
   "execution_count": 9,
   "metadata": {
    "pycharm": {
     "name": "#%%\n"
    }
   },
   "outputs": [
    {
     "data": {
      "image/png": "[encoded data removed]",
      "text/plain": [
       "<Figure size 432x288 with 1 Axes>"
      ]
     },
     "metadata": {
      "needs_background": "light"
     },
     "output_type": "display_data"
    },
    {
     "data": {
      "image/png": "[encoded data removed]",
      "text/plain": [
       "<Figure size 432x288 with 1 Axes>"
      ]
     },
     "metadata": {
      "needs_background": "light"
     },
     "output_type": "display_data"
    }
   ],
   "source": [
    "%matplotlib inline\n",
    "acc = history.history['acc']\n",
    "val_acc = history.history['val_acc']\n",
    "loss = history.history['loss']\n",
    "val_loss = history.history['val_loss']\n",
    "\n",
    "epochs = range(len(acc))\n",
    "\n",
    "plt.plot(epochs, acc, 'r', label='Training accuracy')\n",
    "plt.plot(epochs, val_acc, 'b', label='Validation accuracy')\n",
    "plt.title('Training and validation accuracy')\n",
    "plt.legend()\n",
    "plt.figure()\n",
    "\n",
    "plt.plot(epochs, loss, 'r', label='Training Loss')\n",
    "plt.plot(epochs, val_loss, 'b', label='Validation Loss')\n",
    "plt.title('Training and validation loss')\n",
    "plt.legend()\n",
    "\n",
    "plt.show()"
   ]
  },
  {
   "cell_type": "code",
   "execution_count": 10,
   "metadata": {},
   "outputs": [
    {
     "data": {
      "image/png": "[encoded data removed]",
      "text/plain": [
       "<Figure size 432x288 with 1 Axes>"
      ]
     },
     "metadata": {
      "needs_background": "light"
     },
     "output_type": "display_data"
    },
    {
     "data": {
      "image/png": "[encoded data removed]",
      "text/plain": [
       "<Figure size 432x288 with 1 Axes>"
      ]
     },
     "metadata": {
      "needs_background": "light"
     },
     "output_type": "display_data"
    }
   ],
   "source": [
    "%matplotlib inline\n",
    "acc = history.history['acc'][5:]\n",
    "val_acc = history.history['val_acc'][5:]\n",
    "loss = history.history['loss'][5:]\n",
    "val_loss = history.history['val_loss'][5:]\n",
    "\n",
    "epochs = range(len(acc))\n",
    "\n",
    "plt.plot(epochs, acc, 'r', label='Training accuracy')\n",
    "plt.plot(epochs, val_acc, 'b', label='Validation accuracy')\n",
    "plt.title('Training and validation accuracy')\n",
    "plt.legend()\n",
    "plt.figure()\n",
    "\n",
    "plt.plot(epochs, loss, 'r', label='Training Loss')\n",
    "plt.plot(epochs, val_loss, 'b', label='Validation Loss')\n",
    "plt.title('Training and validation loss')\n",
    "plt.legend()\n",
    "\n",
    "plt.show()"
   ]
  },
  {
   "cell_type": "code",
   "execution_count": null,
   "metadata": {
    "pycharm": {
     "name": "#%%\n"
    }
   },
   "outputs": [],
   "source": [
    "get_ipython().run_cell_magic('javascript', '', '<!-- Save the notebook -->\\nIPython.notebook.save_checkpoint();')"
   ]
  },
  {
   "cell_type": "code",
   "execution_count": null,
   "metadata": {},
   "outputs": [],
   "source": []
  }
 ],
 "metadata": {
  "kernelspec": {
   "display_name": "Python 3",
   "language": "python",
   "name": "python3"
  },
  "language_info": {
   "codemirror_mode": {
    "name": "ipython",
    "version": 3
   },
   "file_extension": ".py",
   "mimetype": "text/x-python",
   "name": "python",
   "nbconvert_exporter": "python",
   "pygments_lexer": "ipython3",
   "version": "3.8.5"
  }
 },
 "nbformat": 4,
 "nbformat_minor": 1
}
