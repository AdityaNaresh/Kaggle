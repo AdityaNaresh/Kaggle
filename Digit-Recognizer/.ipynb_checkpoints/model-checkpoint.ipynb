{
 "cells": [
  {
   "cell_type": "code",
   "execution_count": 16,
   "metadata": {},
   "outputs": [],
   "source": [
    "import csv\n",
    "import numpy as np\n",
    "import tensorflow as tf\n",
    "import matplotlib.pyplot as plt\n",
    "import pandas as pd\n",
    "from tensorflow.keras.preprocessing.image import ImageDataGenerator\n",
    "from sklearn.model_selection import train_test_split\n",
    "from tensorflow.keras.utils import to_categorical\n",
    "from keras.callbacks import ReduceLROnPlateau\n"
   ]
  },
  {
   "cell_type": "code",
   "execution_count": 17,
   "metadata": {
    "pycharm": {
     "name": "#%%\n"
    }
   },
   "outputs": [],
   "source": [
    "def get_data_train(filename):\n",
    "    with open(filename) as training_file:\n",
    "        file = csv.reader(training_file, delimiter = \",\")\n",
    "        images = []\n",
    "        labels = []\n",
    "        ignore = 1\n",
    "        for row in file:\n",
    "            if ignore == 1:\n",
    "                ignore = 0\n",
    "                continue\n",
    "            labels.append(row[0])\n",
    "            images.append(np.array_split(row[1:],28))\n",
    "    return np.array(images).astype(\"int32\"), np.array(labels).astype(\"int32\")"
   ]
  },
  {
   "cell_type": "code",
   "execution_count": 18,
   "metadata": {
    "pycharm": {
     "name": "#%%\n"
    }
   },
   "outputs": [],
   "source": [
    "def get_data_test(filename):\n",
    "    with open(filename) as training_file:\n",
    "        file = csv.reader(training_file, delimiter = \",\")\n",
    "        images = []\n",
    "        ignore = 1\n",
    "        for row in file:\n",
    "            if ignore == 1:\n",
    "                ignore = 0\n",
    "                continue\n",
    "            images.append(np.array_split(row,28))\n",
    "    return np.array(images).astype(\"int32\")"
   ]
  },
  {
   "cell_type": "code",
   "execution_count": 19,
   "metadata": {
    "pycharm": {
     "name": "#%%\n"
    }
   },
   "outputs": [
    {
     "name": "stdout",
     "output_type": "stream",
     "text": [
      "(42000, 28, 28)\n",
      "(28000, 28, 28)\n",
      "(33600, 28, 28)\n",
      "(8400, 28, 28)\n",
      "(33600,)\n",
      "(8400,)\n"
     ]
    }
   ],
   "source": [
    "\n",
    "train_path = 'data/train.csv'\n",
    "test_path = 'data/test.csv'\n",
    "\n",
    "train_images, train_labels = get_data_train(train_path)\n",
    "test_images = get_data_test(test_path)\n",
    "\n",
    "seed = 1\n",
    "\n",
    "x_train, x_test, y_train, y_test = train_test_split(train_images, train_labels, test_size=0.2, random_state=seed)\n",
    "\n",
    "print(train_images.shape)\n",
    "print(test_images.shape)\n",
    "print(x_train.shape)\n",
    "print(x_test.shape)\n",
    "print(y_train.shape)\n",
    "print(y_test.shape)\n",
    "\n",
    "\n"
   ]
  },
  {
   "cell_type": "code",
   "execution_count": 20,
   "metadata": {
    "pycharm": {
     "name": "#%%\n"
    }
   },
   "outputs": [
    {
     "name": "stdout",
     "output_type": "stream",
     "text": [
      "(33600, 28, 28, 1)\n",
      "(8400, 28, 28, 1)\n"
     ]
    }
   ],
   "source": [
    "x_train = np.expand_dims(x_train, axis=3)\n",
    "x_test = np.expand_dims(x_test, axis=3)\n",
    "train_datagen = ImageDataGenerator(rescale = 1./255,\n",
    "      rotation_range=15,\n",
    "      width_shift_range=0.1,\n",
    "      height_shift_range=0.1,\n",
    "      shear_range=0.1,\n",
    "      zoom_range=0.1,\n",
    "      horizontal_flip=False,\n",
    "      fill_mode='nearest'\n",
    "    )\n",
    "\n",
    "validation_datagen = ImageDataGenerator(rescale = 1./255)\n",
    "\n",
    "print(x_train.shape)\n",
    "print(x_test.shape)\n"
   ]
  },
  {
   "cell_type": "code",
   "execution_count": 21,
   "metadata": {},
   "outputs": [],
   "source": [
    "model = tf.keras.models.Sequential([\n",
    "    tf.keras.layers.Conv2D(64, (5,5), activation=tf.nn.relu,padding='Same',input_shape=(28, 28, 1)),\n",
    "    #tf.keras.layers.BatchNormalization(),\n",
    "    #tf.keras.layers.Conv2D(64, (5,5), activation=tf.nn.relu,padding='Same'),\n",
    "    tf.keras.layers.MaxPooling2D(2,2),\n",
    "\n",
    "    tf.keras.layers.Conv2D(128, (3,3), activation=tf.nn.relu,padding = 'Same'),\n",
    "    #tf.keras.layers.BatchNormalization(),\n",
    "    #tf.keras.layers.Conv2D(128, (3,3), activation=tf.nn.relu,padding = 'Same'),\n",
    "    tf.keras.layers.MaxPooling2D(2,2),\n",
    "\n",
    "    tf.keras.layers.Flatten(),\n",
    "\n",
    "    tf.keras.layers.Dense(128,activation=tf.nn.relu),\n",
    "    #tf.keras.layers.Dropout(0.2),\n",
    "    tf.keras.layers.Dense(10, activation = tf.nn.softmax)\n",
    "])\n"
   ]
  },
  {
   "cell_type": "code",
   "execution_count": 22,
   "metadata": {
    "pycharm": {
     "name": "#%%\n"
    }
   },
   "outputs": [
    {
     "name": "stdout",
     "output_type": "stream",
     "text": [
      "Epoch 1/35\n",
      "525/525 [==============================] - 17s 32ms/step - loss: 0.3252 - acc: 0.8981 - val_loss: 0.0821 - val_acc: 0.9740\n",
      "Epoch 2/35\n",
      "525/525 [==============================] - 9s 17ms/step - loss: 0.1035 - acc: 0.9689 - val_loss: 0.0581 - val_acc: 0.9836\n",
      "Epoch 3/35\n",
      "525/525 [==============================] - 8s 16ms/step - loss: 0.0772 - acc: 0.9760 - val_loss: 0.0515 - val_acc: 0.9850\n",
      "Epoch 4/35\n",
      "525/525 [==============================] - 8s 16ms/step - loss: 0.0592 - acc: 0.9819 - val_loss: 0.0470 - val_acc: 0.9857\n",
      "Epoch 5/35\n",
      "525/525 [==============================] - 8s 15ms/step - loss: 0.0540 - acc: 0.9835 - val_loss: 0.0349 - val_acc: 0.9895\n",
      "Epoch 6/35\n",
      "525/525 [==============================] - 7s 14ms/step - loss: 0.0471 - acc: 0.9856 - val_loss: 0.0368 - val_acc: 0.9901\n",
      "Epoch 7/35\n",
      "525/525 [==============================] - 8s 15ms/step - loss: 0.0440 - acc: 0.9866 - val_loss: 0.0327 - val_acc: 0.9900\n",
      "Epoch 8/35\n",
      "525/525 [==============================] - 9s 17ms/step - loss: 0.0385 - acc: 0.9881 - val_loss: 0.0385 - val_acc: 0.9904\n",
      "Epoch 9/35\n",
      "525/525 [==============================] - 9s 17ms/step - loss: 0.0394 - acc: 0.9869 - val_loss: 0.0290 - val_acc: 0.9920\n",
      "Epoch 10/35\n",
      "525/525 [==============================] - 8s 15ms/step - loss: 0.0333 - acc: 0.9888 - val_loss: 0.0321 - val_acc: 0.9900\n",
      "Epoch 11/35\n",
      "524/525 [============================>.] - ETA: 0s - loss: 0.0307 - acc: 0.9900\n",
      "Epoch 00011: ReduceLROnPlateau reducing learning rate to 0.0005000000237487257.\n",
      "525/525 [==============================] - 8s 14ms/step - loss: 0.0306 - acc: 0.9900 - val_loss: 0.0374 - val_acc: 0.9902\n",
      "Epoch 12/35\n",
      "525/525 [==============================] - 8s 15ms/step - loss: 0.0237 - acc: 0.9925 - val_loss: 0.0273 - val_acc: 0.9932\n",
      "Epoch 13/35\n",
      "525/525 [==============================] - 8s 14ms/step - loss: 0.0206 - acc: 0.9933 - val_loss: 0.0280 - val_acc: 0.9932\n",
      "Epoch 14/35\n",
      "525/525 [==============================] - ETA: 0s - loss: 0.0193 - acc: 0.9938\n",
      "Epoch 00014: ReduceLROnPlateau reducing learning rate to 0.0002500000118743628.\n",
      "525/525 [==============================] - 8s 15ms/step - loss: 0.0193 - acc: 0.9938 - val_loss: 0.0301 - val_acc: 0.9930\n",
      "Epoch 15/35\n",
      "525/525 [==============================] - 8s 14ms/step - loss: 0.0144 - acc: 0.9950 - val_loss: 0.0288 - val_acc: 0.9940\n",
      "Epoch 16/35\n",
      "525/525 [==============================] - 8s 15ms/step - loss: 0.0151 - acc: 0.9949 - val_loss: 0.0265 - val_acc: 0.9939\n",
      "Epoch 17/35\n",
      "525/525 [==============================] - 8s 14ms/step - loss: 0.0119 - acc: 0.9960 - val_loss: 0.0266 - val_acc: 0.9943\n",
      "Epoch 18/35\n",
      "525/525 [==============================] - 8s 15ms/step - loss: 0.0127 - acc: 0.9962 - val_loss: 0.0274 - val_acc: 0.9942\n",
      "Epoch 19/35\n",
      "525/525 [==============================] - 9s 17ms/step - loss: 0.0130 - acc: 0.9957 - val_loss: 0.0249 - val_acc: 0.9946\n",
      "Epoch 20/35\n",
      "525/525 [==============================] - 8s 14ms/step - loss: 0.0110 - acc: 0.9964 - val_loss: 0.0285 - val_acc: 0.9937\n",
      "Epoch 21/35\n",
      "524/525 [============================>.] - ETA: 0s - loss: 0.0120 - acc: 0.9964\n",
      "Epoch 00021: ReduceLROnPlateau reducing learning rate to 0.0001250000059371814.\n",
      "525/525 [==============================] - 8s 16ms/step - loss: 0.0120 - acc: 0.9964 - val_loss: 0.0274 - val_acc: 0.9937\n",
      "Epoch 22/35\n",
      "525/525 [==============================] - 8s 15ms/step - loss: 0.0102 - acc: 0.9966 - val_loss: 0.0309 - val_acc: 0.9926\n",
      "Epoch 23/35\n",
      "522/525 [============================>.] - ETA: 0s - loss: 0.0096 - acc: 0.9969\n",
      "Epoch 00023: ReduceLROnPlateau reducing learning rate to 6.25000029685907e-05.\n",
      "525/525 [==============================] - 8s 16ms/step - loss: 0.0096 - acc: 0.9969 - val_loss: 0.0261 - val_acc: 0.9943\n",
      "Epoch 24/35\n",
      "525/525 [==============================] - 9s 17ms/step - loss: 0.0093 - acc: 0.9969 - val_loss: 0.0262 - val_acc: 0.9943\n",
      "Epoch 25/35\n",
      "524/525 [============================>.] - ETA: 0s - loss: 0.0085 - acc: 0.9972\n",
      "Epoch 00025: ReduceLROnPlateau reducing learning rate to 3.125000148429535e-05.\n",
      "525/525 [==============================] - 8s 16ms/step - loss: 0.0087 - acc: 0.9971 - val_loss: 0.0276 - val_acc: 0.9938\n",
      "Epoch 26/35\n",
      "525/525 [==============================] - 8s 15ms/step - loss: 0.0080 - acc: 0.9974 - val_loss: 0.0271 - val_acc: 0.9943\n",
      "Epoch 27/35\n",
      "525/525 [==============================] - ETA: 0s - loss: 0.0079 - acc: 0.9976\n",
      "Epoch 00027: ReduceLROnPlateau reducing learning rate to 1.5625000742147677e-05.\n",
      "525/525 [==============================] - 8s 16ms/step - loss: 0.0079 - acc: 0.9976 - val_loss: 0.0261 - val_acc: 0.9942\n",
      "Epoch 28/35\n",
      "525/525 [==============================] - 8s 15ms/step - loss: 0.0078 - acc: 0.9976 - val_loss: 0.0267 - val_acc: 0.9939\n",
      "Epoch 29/35\n",
      "522/525 [============================>.] - ETA: 0s - loss: 0.0084 - acc: 0.9975\n",
      "Epoch 00029: ReduceLROnPlateau reducing learning rate to 7.812500371073838e-06.\n",
      "525/525 [==============================] - 8s 14ms/step - loss: 0.0084 - acc: 0.9975 - val_loss: 0.0269 - val_acc: 0.9939\n",
      "Epoch 30/35\n",
      "525/525 [==============================] - 8s 15ms/step - loss: 0.0080 - acc: 0.9976 - val_loss: 0.0266 - val_acc: 0.9942\n",
      "Epoch 31/35\n",
      "525/525 [==============================] - ETA: 0s - loss: 0.0082 - acc: 0.9974\n",
      "Epoch 00031: ReduceLROnPlateau reducing learning rate to 3.906250185536919e-06.\n",
      "525/525 [==============================] - 8s 16ms/step - loss: 0.0082 - acc: 0.9974 - val_loss: 0.0266 - val_acc: 0.9942\n",
      "Epoch 32/35\n",
      "525/525 [==============================] - 8s 15ms/step - loss: 0.0074 - acc: 0.9976 - val_loss: 0.0267 - val_acc: 0.9940\n",
      "Epoch 33/35\n",
      "524/525 [============================>.] - ETA: 0s - loss: 0.0077 - acc: 0.9975\n",
      "Epoch 00033: ReduceLROnPlateau reducing learning rate to 3e-06.\n",
      "525/525 [==============================] - 8s 16ms/step - loss: 0.0077 - acc: 0.9975 - val_loss: 0.0267 - val_acc: 0.9942\n",
      "Epoch 34/35\n",
      "525/525 [==============================] - 9s 16ms/step - loss: 0.0072 - acc: 0.9979 - val_loss: 0.0267 - val_acc: 0.9940\n",
      "Epoch 35/35\n",
      "524/525 [============================>.] - ETA: 0s - loss: 0.0082 - acc: 0.9972\n",
      "Epoch 00035: ReduceLROnPlateau reducing learning rate to 3e-06.\n",
      "525/525 [==============================] - 8s 16ms/step - loss: 0.0082 - acc: 0.9972 - val_loss: 0.0266 - val_acc: 0.9942\n"
     ]
    }
   ],
   "source": [
    "y_train_cat = to_categorical(y_train)\n",
    "y_test_cat = to_categorical(y_test)\n",
    "\n",
    "training_generator = train_datagen.flow(x_train, y_train_cat, batch_size=64)\n",
    "validation_generator = validation_datagen.flow(x_test, y_test_cat, batch_size=64)\n",
    "\n",
    "model.compile(loss = 'categorical_crossentropy', optimizer= tf.keras.optimizers.Adam(), metrics=['acc'])\n",
    "\n",
    "learning_rate_reduction = ReduceLROnPlateau(monitor='val_acc', \n",
    "                                            patience=2, \n",
    "                                            verbose=1, \n",
    "                                            factor=0.5, \n",
    "                                            min_lr=0.000003)\n",
    "\n",
    "history = model.fit(training_generator,\n",
    "                    epochs = 35,\n",
    "                    verbose = 1,\n",
    "                   validation_data = validation_generator,\n",
    "                   callbacks=[learning_rate_reduction])"
   ]
  },
  {
   "cell_type": "code",
   "execution_count": 23,
   "metadata": {
    "pycharm": {
     "name": "#%%\n"
    }
   },
   "outputs": [
    {
     "data": {
      "image/png": "[encoded data removed]",
      "text/plain": [
       "<Figure size 432x288 with 1 Axes>"
      ]
     },
     "metadata": {
      "needs_background": "light"
     },
     "output_type": "display_data"
    },
    {
     "data": {
      "image/png": "[encoded data removed]",
      "text/plain": [
       "<Figure size 432x288 with 1 Axes>"
      ]
     },
     "metadata": {
      "needs_background": "light"
     },
     "output_type": "display_data"
    }
   ],
   "source": [
    "%matplotlib inline\n",
    "acc = history.history['acc']\n",
    "val_acc = history.history['val_acc']\n",
    "loss = history.history['loss']\n",
    "val_loss = history.history['val_loss']\n",
    "\n",
    "epochs = range(len(acc))\n",
    "\n",
    "plt.plot(epochs, acc, 'r', label='Training accuracy')\n",
    "plt.plot(epochs, val_acc, 'b', label='Validation accuracy')\n",
    "plt.title('Training and validation accuracy')\n",
    "plt.legend()\n",
    "plt.figure()\n",
    "\n",
    "plt.plot(epochs, loss, 'r', label='Training Loss')\n",
    "plt.plot(epochs, val_loss, 'b', label='Validation Loss')\n",
    "plt.title('Training and validation loss')\n",
    "plt.legend()\n",
    "\n",
    "plt.show()"
   ]
  },
  {
   "cell_type": "code",
   "execution_count": 24,
   "metadata": {
    "pycharm": {
     "name": "#%%\n"
    }
   },
   "outputs": [
    {
     "name": "stdout",
     "output_type": "stream",
     "text": [
      "Model: \"sequential_3\"\n",
      "_________________________________________________________________\n",
      "Layer (type)                 Output Shape              Param #   \n",
      "=================================================================\n",
      "conv2d_6 (Conv2D)            (None, 28, 28, 64)        1664      \n",
      "_________________________________________________________________\n",
      "max_pooling2d_6 (MaxPooling2 (None, 14, 14, 64)        0         \n",
      "_________________________________________________________________\n",
      "conv2d_7 (Conv2D)            (None, 14, 14, 128)       73856     \n",
      "_________________________________________________________________\n",
      "max_pooling2d_7 (MaxPooling2 (None, 7, 7, 128)         0         \n",
      "_________________________________________________________________\n",
      "flatten_3 (Flatten)          (None, 6272)              0         \n",
      "_________________________________________________________________\n",
      "dense_6 (Dense)              (None, 128)               802944    \n",
      "_________________________________________________________________\n",
      "dense_7 (Dense)              (None, 10)                1290      \n",
      "=================================================================\n",
      "Total params: 879,754\n",
      "Trainable params: 879,754\n",
      "Non-trainable params: 0\n",
      "_________________________________________________________________\n"
     ]
    }
   ],
   "source": [
    "#final model\n",
    "final_model = tf.keras.models.Sequential([\n",
    "    tf.keras.layers.Conv2D(64, (5,5), activation=tf.nn.relu,padding='Same',input_shape=(28, 28, 1)),\n",
    "    tf.keras.layers.MaxPooling2D(2,2),\n",
    "\n",
    "    tf.keras.layers.Conv2D(128, (3,3), activation=tf.nn.relu,padding = 'Same'),\n",
    "    tf.keras.layers.MaxPooling2D(2,2),\n",
    "\n",
    "    tf.keras.layers.Flatten(),\n",
    "\n",
    "    tf.keras.layers.Dense(128,activation=tf.nn.relu),\n",
    "    tf.keras.layers.Dense(10, activation = tf.nn.softmax)\n",
    "])\n",
    "\n",
    "final_model.compile(loss = 'categorical_crossentropy', optimizer= tf.keras.optimizers.Adam(), metrics=['acc'])\n",
    "\n",
    "final_model.summary()"
   ]
  },
  {
   "cell_type": "code",
   "execution_count": 25,
   "metadata": {
    "pycharm": {
     "name": "#%%\n"
    }
   },
   "outputs": [],
   "source": [
    "train_labels_cat = to_categorical(train_labels)\n",
    "train_images = np.expand_dims(train_images, axis=3)\n"
   ]
  },
  {
   "cell_type": "code",
   "execution_count": 26,
   "metadata": {
    "pycharm": {
     "name": "#%%\n"
    }
   },
   "outputs": [
    {
     "name": "stdout",
     "output_type": "stream",
     "text": [
      "Epoch 1/25\n",
      "657/657 [==============================] - 10s 16ms/step - loss: 0.2878 - acc: 0.9094\n",
      "Epoch 2/25\n",
      "657/657 [==============================] - 9s 14ms/step - loss: 0.0922 - acc: 0.9718\n",
      "Epoch 3/25\n",
      "657/657 [==============================] - 9s 13ms/step - loss: 0.0682 - acc: 0.9780\n",
      "Epoch 4/25\n",
      "657/657 [==============================] - 9s 14ms/step - loss: 0.0537 - acc: 0.9834\n",
      "Epoch 5/25\n",
      "657/657 [==============================] - 9s 13ms/step - loss: 0.0468 - acc: 0.9856\n",
      "Epoch 6/25\n",
      "657/657 [==============================] - 9s 13ms/step - loss: 0.0438 - acc: 0.9862\n",
      "Epoch 7/25\n",
      "657/657 [==============================] - 9s 14ms/step - loss: 0.0411 - acc: 0.9871\n",
      "Epoch 8/25\n",
      "657/657 [==============================] - 9s 14ms/step - loss: 0.0370 - acc: 0.9882\n",
      "Epoch 9/25\n",
      "657/657 [==============================] - 9s 13ms/step - loss: 0.0333 - acc: 0.9892\n",
      "Epoch 10/25\n",
      "657/657 [==============================] - 9s 14ms/step - loss: 0.0310 - acc: 0.9902\n",
      "Epoch 11/25\n",
      "657/657 [==============================] - 9s 14ms/step - loss: 0.0293 - acc: 0.9906\n",
      "Epoch 12/25\n",
      "657/657 [==============================] - 10s 15ms/step - loss: 0.0284 - acc: 0.9916\n",
      "Epoch 13/25\n",
      "657/657 [==============================] - 9s 13ms/step - loss: 0.0276 - acc: 0.9915\n",
      "Epoch 14/25\n",
      "656/657 [============================>.] - ETA: 0s - loss: 0.0265 - acc: 0.9915\n",
      "Epoch 00014: ReduceLROnPlateau reducing learning rate to 0.0005000000237487257.\n",
      "657/657 [==============================] - 9s 14ms/step - loss: 0.0267 - acc: 0.9915\n",
      "Epoch 15/25\n",
      "657/657 [==============================] - 9s 13ms/step - loss: 0.0199 - acc: 0.9937\n",
      "Epoch 16/25\n",
      "657/657 [==============================] - 9s 13ms/step - loss: 0.0172 - acc: 0.9945\n",
      "Epoch 17/25\n",
      "657/657 [==============================] - 9s 14ms/step - loss: 0.0149 - acc: 0.9950\n",
      "Epoch 18/25\n",
      "657/657 [==============================] - 9s 13ms/step - loss: 0.0170 - acc: 0.9946\n",
      "Epoch 19/25\n",
      "657/657 [==============================] - 9s 13ms/step - loss: 0.0137 - acc: 0.9958\n",
      "Epoch 20/25\n",
      "657/657 [==============================] - 9s 13ms/step - loss: 0.0150 - acc: 0.9951\n",
      "Epoch 21/25\n",
      "656/657 [============================>.] - ETA: 0s - loss: 0.0141 - acc: 0.9955\n",
      "Epoch 00021: ReduceLROnPlateau reducing learning rate to 0.0002500000118743628.\n",
      "657/657 [==============================] - 9s 13ms/step - loss: 0.0141 - acc: 0.9955\n",
      "Epoch 22/25\n",
      "657/657 [==============================] - 9s 13ms/step - loss: 0.0118 - acc: 0.9961\n",
      "Epoch 23/25\n",
      "657/657 [==============================] - 9s 13ms/step - loss: 0.0101 - acc: 0.9970\n",
      "Epoch 24/25\n",
      "657/657 [==============================] - 11s 16ms/step - loss: 0.0092 - acc: 0.9970\n",
      "Epoch 25/25\n",
      "656/657 [============================>.] - ETA: 0s - loss: 0.0095 - acc: 0.9970\n",
      "Epoch 00025: ReduceLROnPlateau reducing learning rate to 0.0001250000059371814.\n",
      "657/657 [==============================] - 9s 14ms/step - loss: 0.0095 - acc: 0.9970\n"
     ]
    },
    {
     "data": {
      "text/plain": [
       "<tensorflow.python.keras.callbacks.History at 0x7feca8e7b8b0>"
      ]
     },
     "execution_count": 26,
     "metadata": {},
     "output_type": "execute_result"
    }
   ],
   "source": [
    "\n",
    "learning_rate_reduction_final = ReduceLROnPlateau(monitor='acc', \n",
    "                                            patience=2, \n",
    "                                            verbose=1, \n",
    "                                            factor=0.5, \n",
    "                                            min_lr=0.000003)\n",
    "\n",
    "\n",
    "final_model.fit(train_datagen.flow(train_images, train_labels_cat, batch_size=64),\n",
    "                    epochs = 25,\n",
    "                    verbose = 1,\n",
    "                   callbacks=[learning_rate_reduction_final])"
   ]
  },
  {
   "cell_type": "code",
   "execution_count": 27,
   "metadata": {
    "pycharm": {
     "name": "#%%\n"
    }
   },
   "outputs": [],
   "source": [
    "test_datagen = ImageDataGenerator(rescale = 1./255)\n",
    "test_images = np.expand_dims(test_images, axis=3)"
   ]
  },
  {
   "cell_type": "code",
   "execution_count": 28,
   "metadata": {
    "pycharm": {
     "name": "#%%\n"
    }
   },
   "outputs": [],
   "source": [
    "results = final_model.predict(test_datagen.flow(test_images))"
   ]
  },
  {
   "cell_type": "code",
   "execution_count": 29,
   "metadata": {
    "pycharm": {
     "name": "#%%\n"
    }
   },
   "outputs": [],
   "source": [
    "results = np.argmax(results,axis = 1)\n",
    "results = pd.Series(results,name=\"Label\")"
   ]
  },
  {
   "cell_type": "code",
   "execution_count": 30,
   "metadata": {
    "pycharm": {
     "name": "#%%\n"
    }
   },
   "outputs": [],
   "source": [
    "submission = pd.concat([pd.Series(range(1,28001),name = \"ImageId\"),results],axis = 1)\n",
    "\n",
    "submission.to_csv(\"submission.csv\",index=False)"
   ]
  },
  {
   "cell_type": "code",
   "execution_count": null,
   "metadata": {},
   "outputs": [],
   "source": [
    "get_ipython().run_cell_magic('javascript', '', '<!-- Save the notebook -->\\nIPython.notebook.save_checkpoint();')"
   ]
  },
  {
   "cell_type": "code",
   "execution_count": null,
   "metadata": {},
   "outputs": [],
   "source": []
  }
 ],
 "metadata": {
  "kernelspec": {
   "display_name": "Python 3",
   "language": "python",
   "name": "python3"
  },
  "language_info": {
   "codemirror_mode": {
    "name": "ipython",
    "version": 3
   },
   "file_extension": ".py",
   "mimetype": "text/x-python",
   "name": "python",
   "nbconvert_exporter": "python",
   "pygments_lexer": "ipython3",
   "version": "3.8.5"
  }
 },
 "nbformat": 4,
 "nbformat_minor": 1
}
